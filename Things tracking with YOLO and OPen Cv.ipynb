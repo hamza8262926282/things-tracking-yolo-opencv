{
 "cells": [
  {
   "cell_type": "code",
   "execution_count": null,
   "id": "76edbdd5",
   "metadata": {},
   "outputs": [],
   "source": [
    "pip install ultralytics"
   ]
  },
  {
   "cell_type": "code",
   "execution_count": null,
   "id": "3aca6941",
   "metadata": {},
   "outputs": [],
   "source": [
    "import cv2\n",
    "from ultralytics import YOLO"
   ]
  },
  {
   "cell_type": "code",
   "execution_count": null,
   "id": "c83221be",
   "metadata": {},
   "outputs": [],
   "source": [
    "# Load YOLOv8 model (n = nano version for better speed on low-end devices)\n",
    "model = YOLO(\"yolov8n.pt\")"
   ]
  },
  {
   "cell_type": "code",
   "execution_count": null,
   "id": "c1db92ab",
   "metadata": {},
   "outputs": [],
   "source": [
    "# Classes from COCO dataset that we want to detect and count\n",
    "COCO_CLASSES = {\n",
    "    0: \"person\",\n",
    "    2: \"car\",\n",
    "    3: \"motorcycle\",\n",
    "    16: \"dog\",\n",
    "    39: \"bottle\",\n",
    "    56: \"chair\"\n",
    "}"
   ]
  },
  {
   "cell_type": "code",
   "execution_count": null,
   "id": "5908dee5",
   "metadata": {},
   "outputs": [],
   "source": [
    "# Counter for each class\n",
    "object_counts = {cls_name: 0 for cls_name in COCO_CLASSES.values()}"
   ]
  },
  {
   "cell_type": "code",
   "execution_count": null,
   "id": "494a71e3",
   "metadata": {},
   "outputs": [],
   "source": [
    "# Store previous center points to avoid double counting\n",
    "past_centers = {cls_id: [] for cls_id in COCO_CLASSES}"
   ]
  },
  {
   "cell_type": "code",
   "execution_count": null,
   "id": "7e55a473",
   "metadata": {},
   "outputs": [],
   "source": [
    "# Function to get center of bounding box\n",
    "def get_center(x1, y1, x2, y2):\n",
    "    return ((x1 + x2) // 2, (y1 + y2) // 2)"
   ]
  },
  {
   "cell_type": "code",
   "execution_count": null,
   "id": "91791fef",
   "metadata": {},
   "outputs": [],
   "source": [
    "# Start webcam\n",
    "cap = cv2.VideoCapture(0)  # 0 for default webcam"
   ]
  },
  {
   "cell_type": "code",
   "execution_count": null,
   "id": "818ceccf",
   "metadata": {},
   "outputs": [],
   "source": [
    "# Define line position for counting\n",
    "line_position = 250"
   ]
  },
  {
   "cell_type": "code",
   "execution_count": null,
   "id": "33d2022b",
   "metadata": {},
   "outputs": [],
   "source": [
    "while True:\n",
    "    ret, frame = cap.read()\n",
    "    if not ret:\n",
    "        break\n",
    "\n",
    "    # Run YOLOv8 detection\n",
    "    results = model(frame, stream=True)\n",
    "\n",
    "    # Draw the horizontal line on screen\n",
    "    cv2.line(frame, (0, line_position), (frame.shape[1], line_position), (255, 0, 0), 2)\n",
    "\n",
    "    # Process results\n",
    "    for result in results:\n",
    "        boxes = result.boxes\n",
    "        for box in boxes:\n",
    "            cls_id = int(box.cls[0])\n",
    "            conf = float(box.conf[0])\n",
    "\n",
    "            # Only detect if it's a class we're interested in and confidence is high\n",
    "            if cls_id in COCO_CLASSES and conf > 0.5:\n",
    "                x1, y1, x2, y2 = map(int, box.xyxy[0])\n",
    "                cx, cy = get_center(x1, y1, x2, y2)\n",
    "                cls_name = COCO_CLASSES[cls_id]\n",
    "\n",
    "                # Draw box and label\n",
    "                cv2.rectangle(frame, (x1, y1), (x2, y2), (0, 255, 0), 2)\n",
    "                cv2.putText(frame, f\"{cls_name} {conf:.2f}\", (x1, y1 - 10),\n",
    "                            cv2.FONT_HERSHEY_SIMPLEX, 0.6, (0, 255, 0), 2)\n",
    "\n",
    "                # Check if object crosses the line and hasn't been counted before\n",
    "                if line_position - 10 < cy < line_position + 10:\n",
    "                    already_counted = any(abs(cx - pcx) < 20 and abs(cy - pcy) < 20\n",
    "                                          for pcx, pcy in past_centers[cls_id])\n",
    "                    if not already_counted:\n",
    "                        object_counts[cls_name] += 1\n",
    "                        past_centers[cls_id].append((cx, cy))\n",
    "\n",
    "    # Show object counts on screen\n",
    "    y_offset = 30\n",
    "    for obj, cnt in object_counts.items():\n",
    "        cv2.putText(frame, f\"{obj.capitalize()}: {cnt}\", (10, y_offset),\n",
    "                    cv2.FONT_HERSHEY_SIMPLEX, 0.6, (0, 0, 255), 2)\n",
    "        y_offset += 25\n",
    "\n",
    "    # Show the output frame\n",
    "    cv2.imshow(\"Object Detection and Counting\", frame)\n",
    "\n",
    "    # Exit with ESC key\n",
    "    if cv2.waitKey(1) == 27:\n",
    "        break\n",
    "\n",
    "# Release resources\n",
    "cap.release()\n",
    "cv2.destroyAllWindows()\n"
   ]
  }
 ],
 "metadata": {
  "kernelspec": {
   "display_name": "Python 3",
   "language": "python",
   "name": "python3"
  },
  "language_info": {
   "codemirror_mode": {
    "name": "ipython",
    "version": 3
   },
   "file_extension": ".py",
   "mimetype": "text/x-python",
   "name": "python",
   "nbconvert_exporter": "python",
   "pygments_lexer": "ipython3",
   "version": "3.13.2"
  }
 },
 "nbformat": 4,
 "nbformat_minor": 5
}
